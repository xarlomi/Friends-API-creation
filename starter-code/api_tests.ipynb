{
 "cells": [
  {
   "cell_type": "code",
   "execution_count": 1,
   "metadata": {},
   "outputs": [],
   "source": [
    "from helpers.mongoConnection import write_coll, delete_coll\n",
    "import pandas as pd"
   ]
  },
  {
   "cell_type": "code",
   "execution_count": 2,
   "metadata": {},
   "outputs": [],
   "source": [
    "friends_quotes = pd.read_csv(\"friends_data.csv\")"
   ]
  },
  {
   "cell_type": "markdown",
   "metadata": {},
   "source": [
    "# Testing our MongoConnections:"
   ]
  },
  {
   "cell_type": "markdown",
   "metadata": {},
   "source": [
    "## Adding Characters to Mongodb:"
   ]
  },
  {
   "cell_type": "code",
   "execution_count": 3,
   "metadata": {},
   "outputs": [],
   "source": [
    "def characters(name, personality, job):\n",
    "    character= {\"name\":f\"{name}\" , \"personality\":f\"{personality}\", \"job\": f\"{job}\" \n",
    "        \n",
    "    }\n",
    "    return write_coll(\"characters\", character)"
   ]
  },
  {
   "cell_type": "code",
   "execution_count": 4,
   "metadata": {},
   "outputs": [],
   "source": [
    "name = \"Monica\" \n",
    "personality = \"Smart, cynical and hardworker. But with a romantic disaster area\"\n",
    "job = \"assistant chef for a chic uptown restaurant\""
   ]
  },
  {
   "cell_type": "code",
   "execution_count": 5,
   "metadata": {},
   "outputs": [
    {
     "data": {
      "text/plain": [
       "<pymongo.results.InsertOneResult at 0x117dee880>"
      ]
     },
     "execution_count": 5,
     "metadata": {},
     "output_type": "execute_result"
    }
   ],
   "source": [
    "characters(name, personality, job)"
   ]
  },
  {
   "cell_type": "code",
   "execution_count": 6,
   "metadata": {},
   "outputs": [],
   "source": [
    "name = \"Rachel\" \n",
    "personality = \"Spoiled, adorable and courageous, which makes her Monica´s best friend from high school. She´s on her own for the first time, and is equipped to do nothing\"\n",
    "job = \"Has worked for none of what she has\""
   ]
  },
  {
   "cell_type": "code",
   "execution_count": 7,
   "metadata": {},
   "outputs": [
    {
     "data": {
      "text/plain": [
       "<pymongo.results.InsertOneResult at 0x116bc4780>"
      ]
     },
     "execution_count": 7,
     "metadata": {},
     "output_type": "execute_result"
    }
   ],
   "source": [
    "characters(name, personality, job)"
   ]
  },
  {
   "cell_type": "code",
   "execution_count": 8,
   "metadata": {},
   "outputs": [],
   "source": [
    "name = \"Phoebe\" \n",
    "personality = \"Sweet and flaky. Monica´s former roomate. Plays guitar in the subway, if you know what it means\"\n",
    "job = \"massagist\""
   ]
  },
  {
   "cell_type": "code",
   "execution_count": 9,
   "metadata": {},
   "outputs": [
    {
     "data": {
      "text/plain": [
       "<pymongo.results.InsertOneResult at 0x1180ffa00>"
      ]
     },
     "execution_count": 9,
     "metadata": {},
     "output_type": "execute_result"
    }
   ],
   "source": [
    "characters(name, personality, job)"
   ]
  },
  {
   "cell_type": "code",
   "execution_count": 10,
   "metadata": {},
   "outputs": [],
   "source": [
    "name = \"Ross\"\n",
    "personality = \"Intelligent, emotional, romantic and Monica´s brother. Suddenly divorced. Facing singlehood with phenomenal reluctance\"\n",
    "job = \"A paleontologist. Not that it matters...\""
   ]
  },
  {
   "cell_type": "code",
   "execution_count": 11,
   "metadata": {},
   "outputs": [
    {
     "data": {
      "text/plain": [
       "<pymongo.results.InsertOneResult at 0x11113b780>"
      ]
     },
     "execution_count": 11,
     "metadata": {},
     "output_type": "execute_result"
    }
   ],
   "source": [
    "characters(name, personality, job)"
   ]
  },
  {
   "cell_type": "code",
   "execution_count": 12,
   "metadata": {},
   "outputs": [],
   "source": [
    "name = \"Joey\"\n",
    "personality = \"Hnadsome and macho. Lives accross the hal from Rachell and Monica. Loves women, sports, women, New York and yes, you guessed it: women!\"\n",
    "job = \"Wants to be an actor. Actually, wants to be Al Pacino\""
   ]
  },
  {
   "cell_type": "code",
   "execution_count": 13,
   "metadata": {},
   "outputs": [
    {
     "data": {
      "text/plain": [
       "<pymongo.results.InsertOneResult at 0x1181036c0>"
      ]
     },
     "execution_count": 13,
     "metadata": {},
     "output_type": "execute_result"
    }
   ],
   "source": [
    "characters(name, personality, job)"
   ]
  },
  {
   "cell_type": "code",
   "execution_count": 14,
   "metadata": {},
   "outputs": [],
   "source": [
    "name = \"Chandler\"\n",
    "personality = \"Droll, dry. Makes jokes in uncomfortable moments. Very observer of everyone´s lifes and his life. Survives by way of hs sens of humor\"\n",
    "job = \"Works in front of a computer doing something tedious, he doesn´t really know what it is, in a claustrophobic cubicle in a nondescript office building\""
   ]
  },
  {
   "cell_type": "code",
   "execution_count": 15,
   "metadata": {},
   "outputs": [
    {
     "data": {
      "text/plain": [
       "<pymongo.results.InsertOneResult at 0x118103c40>"
      ]
     },
     "execution_count": 15,
     "metadata": {},
     "output_type": "execute_result"
    }
   ],
   "source": [
    "characters(name, personality, job)"
   ]
  },
  {
   "cell_type": "markdown",
   "metadata": {},
   "source": [
    "## Adding Lines of Characters to Mongo:"
   ]
  },
  {
   "cell_type": "code",
   "execution_count": 16,
   "metadata": {},
   "outputs": [],
   "source": [
    "def line(lin, name, episode):\n",
    "    frase= {\"line\":f\"{lin}\" , \"name\":f\"{name}\", \"episode\": f\"{episode}\" \n",
    "        \n",
    "    }\n",
    "    return write_coll(\"lines\", frase)"
   ]
  },
  {
   "cell_type": "code",
   "execution_count": 17,
   "metadata": {},
   "outputs": [],
   "source": [
    "lin = \"No Mom, I don't have a restaurant, I work in a restaurant.\"\n",
    "name = \"Monica\"\n",
    "episode = \"Episode 2\""
   ]
  },
  {
   "cell_type": "code",
   "execution_count": 18,
   "metadata": {},
   "outputs": [
    {
     "data": {
      "text/plain": [
       "<pymongo.results.InsertOneResult at 0x1181029c0>"
      ]
     },
     "execution_count": 18,
     "metadata": {},
     "output_type": "execute_result"
    }
   ],
   "source": [
    "line(lin, name, episode)"
   ]
  },
  {
   "cell_type": "markdown",
   "metadata": {},
   "source": [
    "### Now that we´ve checked it works, lets add all the lines from our DataFrame:"
   ]
  },
  {
   "cell_type": "code",
   "execution_count": 19,
   "metadata": {},
   "outputs": [
    {
     "data": {
      "text/html": [
       "<div>\n",
       "<style scoped>\n",
       "    .dataframe tbody tr th:only-of-type {\n",
       "        vertical-align: middle;\n",
       "    }\n",
       "\n",
       "    .dataframe tbody tr th {\n",
       "        vertical-align: top;\n",
       "    }\n",
       "\n",
       "    .dataframe thead th {\n",
       "        text-align: right;\n",
       "    }\n",
       "</style>\n",
       "<table border=\"1\" class=\"dataframe\">\n",
       "  <thead>\n",
       "    <tr style=\"text-align: right;\">\n",
       "      <th></th>\n",
       "      <th>Unnamed: 0</th>\n",
       "      <th>author</th>\n",
       "      <th>episode_number</th>\n",
       "      <th>episode_title</th>\n",
       "      <th>quote</th>\n",
       "      <th>quote_order</th>\n",
       "      <th>season</th>\n",
       "    </tr>\n",
       "  </thead>\n",
       "  <tbody>\n",
       "    <tr>\n",
       "      <th>0</th>\n",
       "      <td>543</td>\n",
       "      <td>Phoebe</td>\n",
       "      <td>3.0</td>\n",
       "      <td>The Thumb</td>\n",
       "      <td>(entering) Hi guys!</td>\n",
       "      <td>0.0</td>\n",
       "      <td>1.0</td>\n",
       "    </tr>\n",
       "    <tr>\n",
       "      <th>1</th>\n",
       "      <td>544</td>\n",
       "      <td>All</td>\n",
       "      <td>3.0</td>\n",
       "      <td>The Thumb</td>\n",
       "      <td>Hey, Pheebs! Hi!</td>\n",
       "      <td>1.0</td>\n",
       "      <td>1.0</td>\n",
       "    </tr>\n",
       "    <tr>\n",
       "      <th>2</th>\n",
       "      <td>545</td>\n",
       "      <td>Ross</td>\n",
       "      <td>3.0</td>\n",
       "      <td>The Thumb</td>\n",
       "      <td>Hey. Oh, oh, how'd it go?</td>\n",
       "      <td>2.0</td>\n",
       "      <td>1.0</td>\n",
       "    </tr>\n",
       "    <tr>\n",
       "      <th>3</th>\n",
       "      <td>546</td>\n",
       "      <td>Phoebe</td>\n",
       "      <td>3.0</td>\n",
       "      <td>The Thumb</td>\n",
       "      <td>Um, not so good. He walked me to the subway and said 'We should do this again!'</td>\n",
       "      <td>3.0</td>\n",
       "      <td>1.0</td>\n",
       "    </tr>\n",
       "    <tr>\n",
       "      <th>4</th>\n",
       "      <td>547</td>\n",
       "      <td>All</td>\n",
       "      <td>3.0</td>\n",
       "      <td>The Thumb</td>\n",
       "      <td>Ohh. Ouch.</td>\n",
       "      <td>4.0</td>\n",
       "      <td>1.0</td>\n",
       "    </tr>\n",
       "  </tbody>\n",
       "</table>\n",
       "</div>"
      ],
      "text/plain": [
       "   Unnamed: 0  author  episode_number episode_title  \\\n",
       "0         543  Phoebe             3.0     The Thumb   \n",
       "1         544     All             3.0     The Thumb   \n",
       "2         545    Ross             3.0     The Thumb   \n",
       "3         546  Phoebe             3.0     The Thumb   \n",
       "4         547     All             3.0     The Thumb   \n",
       "\n",
       "                                                                             quote  \\\n",
       "0                                                              (entering) Hi guys!   \n",
       "1                                                                 Hey, Pheebs! Hi!   \n",
       "2                                                        Hey. Oh, oh, how'd it go?   \n",
       "3  Um, not so good. He walked me to the subway and said 'We should do this again!'   \n",
       "4                                                                       Ohh. Ouch.   \n",
       "\n",
       "   quote_order  season  \n",
       "0          0.0     1.0  \n",
       "1          1.0     1.0  \n",
       "2          2.0     1.0  \n",
       "3          3.0     1.0  \n",
       "4          4.0     1.0  "
      ]
     },
     "execution_count": 19,
     "metadata": {},
     "output_type": "execute_result"
    }
   ],
   "source": [
    "pd.set_option('display.max_colwidth', None)\n",
    "friends_quotes.head()"
   ]
  },
  {
   "cell_type": "code",
   "execution_count": 20,
   "metadata": {},
   "outputs": [
    {
     "data": {
      "text/plain": [
       "array([3., 7., 2.])"
      ]
     },
     "execution_count": 20,
     "metadata": {},
     "output_type": "execute_result"
    }
   ],
   "source": [
    "friends_quotes.episode_number.unique()"
   ]
  },
  {
   "cell_type": "code",
   "execution_count": 23,
   "metadata": {},
   "outputs": [],
   "source": [
    "def addingDF():\n",
    "    for i,row in friends_quotes.iterrows():\n",
    "        name = {\"line\" : row[\"quote\"], \"name\": row[\"author\"],\n",
    "            \"episode\" : row[\"episode_number\"]}\n",
    "        write_coll( \"lines\", name)       "
   ]
  },
  {
   "cell_type": "code",
   "execution_count": 24,
   "metadata": {},
   "outputs": [],
   "source": [
    "addingDF()"
   ]
  },
  {
   "cell_type": "markdown",
   "metadata": {},
   "source": [
    "## Adding data to episodes collection from DataFrame:"
   ]
  },
  {
   "cell_type": "code",
   "execution_count": 25,
   "metadata": {},
   "outputs": [],
   "source": [
    "#with drop_duplicates, we remove repeated instances of characters in each episode:\n",
    "author_unique = friends_quotes.drop_duplicates(subset= [\"author\", \"episode_number\"], keep='first', inplace= False)"
   ]
  },
  {
   "cell_type": "code",
   "execution_count": 26,
   "metadata": {},
   "outputs": [
    {
     "data": {
      "text/html": [
       "<div>\n",
       "<style scoped>\n",
       "    .dataframe tbody tr th:only-of-type {\n",
       "        vertical-align: middle;\n",
       "    }\n",
       "\n",
       "    .dataframe tbody tr th {\n",
       "        vertical-align: top;\n",
       "    }\n",
       "\n",
       "    .dataframe thead th {\n",
       "        text-align: right;\n",
       "    }\n",
       "</style>\n",
       "<table border=\"1\" class=\"dataframe\">\n",
       "  <thead>\n",
       "    <tr style=\"text-align: right;\">\n",
       "      <th></th>\n",
       "      <th>Unnamed: 0</th>\n",
       "      <th>author</th>\n",
       "      <th>episode_number</th>\n",
       "      <th>episode_title</th>\n",
       "      <th>quote</th>\n",
       "      <th>quote_order</th>\n",
       "      <th>season</th>\n",
       "    </tr>\n",
       "  </thead>\n",
       "  <tbody>\n",
       "    <tr>\n",
       "      <th>0</th>\n",
       "      <td>543</td>\n",
       "      <td>Phoebe</td>\n",
       "      <td>3.0</td>\n",
       "      <td>The Thumb</td>\n",
       "      <td>(entering) Hi guys!</td>\n",
       "      <td>0.0</td>\n",
       "      <td>1.0</td>\n",
       "    </tr>\n",
       "    <tr>\n",
       "      <th>1</th>\n",
       "      <td>544</td>\n",
       "      <td>All</td>\n",
       "      <td>3.0</td>\n",
       "      <td>The Thumb</td>\n",
       "      <td>Hey, Pheebs! Hi!</td>\n",
       "      <td>1.0</td>\n",
       "      <td>1.0</td>\n",
       "    </tr>\n",
       "    <tr>\n",
       "      <th>2</th>\n",
       "      <td>545</td>\n",
       "      <td>Ross</td>\n",
       "      <td>3.0</td>\n",
       "      <td>The Thumb</td>\n",
       "      <td>Hey. Oh, oh, how'd it go?</td>\n",
       "      <td>2.0</td>\n",
       "      <td>1.0</td>\n",
       "    </tr>\n",
       "    <tr>\n",
       "      <th>5</th>\n",
       "      <td>548</td>\n",
       "      <td>Rachel</td>\n",
       "      <td>3.0</td>\n",
       "      <td>The Thumb</td>\n",
       "      <td>What? He said 'we should do it again', that's good, right?</td>\n",
       "      <td>5.0</td>\n",
       "      <td>1.0</td>\n",
       "    </tr>\n",
       "    <tr>\n",
       "      <th>6</th>\n",
       "      <td>549</td>\n",
       "      <td>Monica</td>\n",
       "      <td>3.0</td>\n",
       "      <td>The Thumb</td>\n",
       "      <td>Uh, no. Loosely translated 'We should do this again' means 'You will never see me naked'.</td>\n",
       "      <td>6.0</td>\n",
       "      <td>1.0</td>\n",
       "    </tr>\n",
       "  </tbody>\n",
       "</table>\n",
       "</div>"
      ],
      "text/plain": [
       "   Unnamed: 0  author  episode_number episode_title  \\\n",
       "0         543  Phoebe             3.0     The Thumb   \n",
       "1         544     All             3.0     The Thumb   \n",
       "2         545    Ross             3.0     The Thumb   \n",
       "5         548  Rachel             3.0     The Thumb   \n",
       "6         549  Monica             3.0     The Thumb   \n",
       "\n",
       "                                                                                       quote  \\\n",
       "0                                                                        (entering) Hi guys!   \n",
       "1                                                                           Hey, Pheebs! Hi!   \n",
       "2                                                                  Hey. Oh, oh, how'd it go?   \n",
       "5                                 What? He said 'we should do it again', that's good, right?   \n",
       "6  Uh, no. Loosely translated 'We should do this again' means 'You will never see me naked'.   \n",
       "\n",
       "   quote_order  season  \n",
       "0          0.0     1.0  \n",
       "1          1.0     1.0  \n",
       "2          2.0     1.0  \n",
       "5          5.0     1.0  \n",
       "6          6.0     1.0  "
      ]
     },
     "execution_count": 26,
     "metadata": {},
     "output_type": "execute_result"
    }
   ],
   "source": [
    "author_unique.head()"
   ]
  },
  {
   "cell_type": "code",
   "execution_count": 27,
   "metadata": {},
   "outputs": [],
   "source": [
    "def addingepisodes(): \n",
    "    for i,row in author_unique.iterrows():\n",
    "        name = {\"episode\" : row[\"episode_number\"], \"name\": row[\"author\"]}\n",
    "        write_coll( \"episodes\", name)  "
   ]
  },
  {
   "cell_type": "code",
   "execution_count": 28,
   "metadata": {},
   "outputs": [],
   "source": [
    "addingepisodes()"
   ]
  },
  {
   "cell_type": "markdown",
   "metadata": {},
   "source": [
    "# Testing our API:"
   ]
  },
  {
   "cell_type": "code",
   "execution_count": 34,
   "metadata": {},
   "outputs": [],
   "source": [
    "import requests"
   ]
  },
  {
   "cell_type": "markdown",
   "metadata": {},
   "source": [
    "### Getting all the characters, lines and episodes:"
   ]
  },
  {
   "cell_type": "code",
   "execution_count": 80,
   "metadata": {},
   "outputs": [
    {
     "data": {
      "text/plain": [
       "<Response [200]>"
      ]
     },
     "execution_count": 80,
     "metadata": {},
     "output_type": "execute_result"
    }
   ],
   "source": [
    "res = requests.get(\"http://127.0.0.1:5000/characters\")\n",
    "res"
   ]
  },
  {
   "cell_type": "code",
   "execution_count": 81,
   "metadata": {},
   "outputs": [
    {
     "data": {
      "text/plain": [
       "[{'_id': {'$oid': '602ffc903b3bd408215f67ef'}, 'name': 'Monica'},\n",
       " {'_id': {'$oid': '602fff063b3bd408215f67f0'}, 'name': 'Rachel'},\n",
       " {'_id': {'$oid': '603143e502f4ae83273123aa'}, 'name': 'Phoebe'},\n",
       " {'_id': {'$oid': '603143ee02f4ae83273123ab'}, 'name': 'Ross'},\n",
       " {'_id': {'$oid': '603143f302f4ae83273123ac'}, 'name': 'Joey'},\n",
       " {'_id': {'$oid': '603143f502f4ae83273123ad'}, 'name': 'Chandler'},\n",
       " {'_id': {'$oid': '60315c11d554bdc513e14d8c'}, 'name': 'Luzia'}]"
      ]
     },
     "execution_count": 81,
     "metadata": {},
     "output_type": "execute_result"
    }
   ],
   "source": [
    "res.json()"
   ]
  },
  {
   "cell_type": "code",
   "execution_count": 32,
   "metadata": {},
   "outputs": [
    {
     "data": {
      "text/plain": [
       "<Response [404]>"
      ]
     },
     "execution_count": 32,
     "metadata": {},
     "output_type": "execute_result"
    }
   ],
   "source": [
    "res = requests.get(\"http://127.0.0.1:5000/characters/remove/Monica\")\n",
    "res"
   ]
  },
  {
   "cell_type": "code",
   "execution_count": 82,
   "metadata": {},
   "outputs": [
    {
     "data": {
      "text/plain": [
       "<Response [200]>"
      ]
     },
     "execution_count": 82,
     "metadata": {},
     "output_type": "execute_result"
    }
   ],
   "source": [
    "res = requests.get(\"http://127.0.0.1:5000/lines\")\n",
    "res"
   ]
  },
  {
   "cell_type": "code",
   "execution_count": 62,
   "metadata": {},
   "outputs": [
    {
     "data": {
      "text/plain": [
       "[{'_id': {'$oid': '60314d8b02f4ae83273123ae'},\n",
       "  'line': \"No Mom, I don't have a restaurant, I work in a restaurant.\"},\n",
       " {'_id': {'$oid': '60314f9702f4ae83273123af'},\n",
       "  'line': \"No, look, don't touch that!\"},\n",
       " {'_id': {'$oid': '60314f9a02f4ae83273123b0'},\n",
       "  'line': 'Oh no. You went on our honeymoon alone?'},\n",
       " {'_id': {'$oid': '60314f9c02f4ae83273123b1'},\n",
       "  'line': '(pause)....Are we still talking about sex?'},\n",
       " {'_id': {'$oid': '60314f9e02f4ae83273123b2'},\n",
       "  'line': \"Marsha, these are cave people. Okay? They have issues like 'Gee, that glacier's getting kinda close.' See?\"},\n",
       " {'_id': {'$oid': '60314f9f02f4ae83273123b3'},\n",
       "  'line': \"Yeah, I think for us, kissing is pretty much like an opening act, y'know? I mean it's like the stand-up comedian you have to sit through before Pink Floyd comes out.\"}]"
      ]
     },
     "execution_count": 62,
     "metadata": {},
     "output_type": "execute_result"
    }
   ],
   "source": [
    "res.json()"
   ]
  },
  {
   "cell_type": "code",
   "execution_count": null,
   "metadata": {},
   "outputs": [],
   "source": []
  },
  {
   "cell_type": "markdown",
   "metadata": {},
   "source": [
    "### Getting all the details of given ID:"
   ]
  },
  {
   "cell_type": "code",
   "execution_count": 110,
   "metadata": {},
   "outputs": [],
   "source": [
    "res = requests.get(\"http://127.0.0.1:5000/characters/details/603143e502f4ae83273123aa\")"
   ]
  },
  {
   "cell_type": "code",
   "execution_count": 111,
   "metadata": {},
   "outputs": [
    {
     "data": {
      "text/plain": [
       "[{'_id': {'$oid': '603143e502f4ae83273123aa'},\n",
       "  'name': 'Phoebe',\n",
       "  'personality': 'Sweet and flaky. Monica´s former roomate. Plays guitar in the subway, if you know what it means',\n",
       "  'job': 'massagist'}]"
      ]
     },
     "execution_count": 111,
     "metadata": {},
     "output_type": "execute_result"
    }
   ],
   "source": [
    "res.json()"
   ]
  },
  {
   "cell_type": "code",
   "execution_count": 88,
   "metadata": {},
   "outputs": [],
   "source": [
    "res = requests.get(\"http://127.0.0.1:5000/lines/details/60314f9a02f4ae83273123b0\")"
   ]
  },
  {
   "cell_type": "code",
   "execution_count": 89,
   "metadata": {},
   "outputs": [
    {
     "data": {
      "text/plain": [
       "[{'_id': {'$oid': '60314f9a02f4ae83273123b0'},\n",
       "  'line': 'Oh no. You went on our honeymoon alone?',\n",
       "  'name': 'Rachel',\n",
       "  'episode': 'Episode 2'}]"
      ]
     },
     "execution_count": 89,
     "metadata": {},
     "output_type": "execute_result"
    }
   ],
   "source": [
    "res.json()"
   ]
  },
  {
   "cell_type": "markdown",
   "metadata": {},
   "source": [
    "### Inserting new objects:"
   ]
  },
  {
   "cell_type": "code",
   "execution_count": 90,
   "metadata": {},
   "outputs": [],
   "source": [
    "q = {\"name\" : \"Yancharles\", \n",
    "     \"personality\" : \"Those wonderful summer afternoons... oh, mama...\",\n",
    "     \"job\": \"IRONHACKER MADAFACKER\"}"
   ]
  },
  {
   "cell_type": "code",
   "execution_count": 91,
   "metadata": {},
   "outputs": [
    {
     "data": {
      "text/plain": [
       "<Response [200]>"
      ]
     },
     "execution_count": 91,
     "metadata": {},
     "output_type": "execute_result"
    }
   ],
   "source": [
    "res = requests.get(\"http://127.0.0.1:5000/characters/new\", params=q)\n",
    "res"
   ]
  },
  {
   "cell_type": "code",
   "execution_count": 92,
   "metadata": {},
   "outputs": [
    {
     "data": {
      "text/plain": [
       "{'_id': {'$oid': '60317efb9a3ac874395bbc12'}}"
      ]
     },
     "execution_count": 92,
     "metadata": {},
     "output_type": "execute_result"
    }
   ],
   "source": [
    "res.json()"
   ]
  },
  {
   "cell_type": "code",
   "execution_count": 94,
   "metadata": {},
   "outputs": [
    {
     "data": {
      "text/plain": [
       "[{'_id': {'$oid': '60317efb9a3ac874395bbc12'},\n",
       "  'name': 'Yancharles',\n",
       "  'personality': 'Those wonderful summer afternoons... oh, mama...',\n",
       "  'job': 'IRONHACKER MADAFACKER'}]"
      ]
     },
     "execution_count": 94,
     "metadata": {},
     "output_type": "execute_result"
    }
   ],
   "source": [
    "res = requests.get(\"http://127.0.0.1:5000/characters/details/60317efb9a3ac874395bbc12\")\n",
    "res.json()"
   ]
  },
  {
   "cell_type": "code",
   "execution_count": 95,
   "metadata": {},
   "outputs": [],
   "source": [
    "q= {\"line\": \"A funsionar.. que te veo quieto\",\n",
    "    \"name\": \"Yancharles\",\n",
    "    \"episode\": \"episode 1\" \n",
    "    \n",
    "}"
   ]
  },
  {
   "cell_type": "code",
   "execution_count": 96,
   "metadata": {},
   "outputs": [
    {
     "data": {
      "text/plain": [
       "<Response [200]>"
      ]
     },
     "execution_count": 96,
     "metadata": {},
     "output_type": "execute_result"
    }
   ],
   "source": [
    "res = requests.get(\"http://127.0.0.1:5000/lines/new\", params=q)\n",
    "res"
   ]
  },
  {
   "cell_type": "code",
   "execution_count": 97,
   "metadata": {},
   "outputs": [
    {
     "data": {
      "text/plain": [
       "{'_id': {'$oid': '60317f429a3ac874395bbc13'}}"
      ]
     },
     "execution_count": 97,
     "metadata": {},
     "output_type": "execute_result"
    }
   ],
   "source": [
    "res.json()"
   ]
  },
  {
   "cell_type": "code",
   "execution_count": 127,
   "metadata": {},
   "outputs": [],
   "source": [
    "q= {\"name\": \"Phoebe\" }"
   ]
  },
  {
   "cell_type": "code",
   "execution_count": null,
   "metadata": {},
   "outputs": [],
   "source": []
  },
  {
   "cell_type": "code",
   "execution_count": null,
   "metadata": {},
   "outputs": [],
   "source": []
  },
  {
   "cell_type": "code",
   "execution_count": 30,
   "metadata": {},
   "outputs": [
    {
     "data": {
      "text/plain": [
       "<Response [200]>"
      ]
     },
     "execution_count": 30,
     "metadata": {},
     "output_type": "execute_result"
    }
   ],
   "source": [
    "res = requests.get(\"http://127.0.0.1:5000/characters\")\n",
    "res\n"
   ]
  },
  {
   "cell_type": "code",
   "execution_count": 31,
   "metadata": {},
   "outputs": [
    {
     "data": {
      "text/plain": [
       "{'Monica': '6033c5ce2bea8fe452801cf8',\n",
       " 'Rachel': '6033c5e02bea8fe452801cf9',\n",
       " 'Phoebe': '6033c6022bea8fe452801cfa',\n",
       " 'Ross': '6033c6032bea8fe452801cfb',\n",
       " 'Joey': '6033c6042bea8fe452801cfc',\n",
       " 'Chandler': '6033c6052bea8fe452801cfd'}"
      ]
     },
     "execution_count": 31,
     "metadata": {},
     "output_type": "execute_result"
    }
   ],
   "source": [
    "res.json()"
   ]
  },
  {
   "cell_type": "code",
   "execution_count": 38,
   "metadata": {},
   "outputs": [
    {
     "data": {
      "text/plain": [
       "{'Monica': '6033c5ce2bea8fe452801cf8',\n",
       " 'Rachel': '6033c5e02bea8fe452801cf9',\n",
       " 'Phoebe': '6033c6022bea8fe452801cfa',\n",
       " 'Ross': '6033c6032bea8fe452801cfb',\n",
       " 'Joey': '6033c6042bea8fe452801cfc',\n",
       " 'Chandler': '6033c6052bea8fe452801cfd'}"
      ]
     },
     "execution_count": 38,
     "metadata": {},
     "output_type": "execute_result"
    }
   ],
   "source": [
    "res = requests.get(\"http://127.0.0.1:5000/characters\")\n",
    "res.json()"
   ]
  },
  {
   "cell_type": "code",
   "execution_count": 41,
   "metadata": {},
   "outputs": [
    {
     "data": {
      "text/plain": [
       "[{'_id': {'$oid': '6033c6042bea8fe452801cfc'},\n",
       "  'name': 'Joey',\n",
       "  'personality': 'Hnadsome and macho. Lives accross the hal from Rachell and Monica. Loves women, sports, women, New York and yes, you guessed it: women!',\n",
       "  'job': 'Wants to be an actor. Actually, wants to be Al Pacino'}]"
      ]
     },
     "execution_count": 41,
     "metadata": {},
     "output_type": "execute_result"
    }
   ],
   "source": [
    "section = \"characters\"\n",
    "identity = \"6033c6042bea8fe452801cfc\"\n",
    "res = requests.get(\"http://127.0.0.1:5000/\"+section+\"/details?id=\"+identity)\n",
    "res.json()"
   ]
  },
  {
   "cell_type": "code",
   "execution_count": 41,
   "metadata": {},
   "outputs": [
    {
     "data": {
      "text/plain": [
       "[{'_id': {'$oid': '6033c6042bea8fe452801cfc'},\n",
       "  'name': 'Joey',\n",
       "  'personality': 'Hnadsome and macho. Lives accross the hal from Rachell and Monica. Loves women, sports, women, New York and yes, you guessed it: women!',\n",
       "  'job': 'Wants to be an actor. Actually, wants to be Al Pacino'}]"
      ]
     },
     "execution_count": 41,
     "metadata": {},
     "output_type": "execute_result"
    }
   ],
   "source": [
    "section = \"characters\"\n",
    "identity = \"6033c6042bea8fe452801cfc\"\n",
    "res = requests.get(\"http://127.0.0.1:5000/\"+section+\"/details?id=\"+identity)\n",
    "res.json()"
   ]
  },
  {
   "cell_type": "code",
   "execution_count": 55,
   "metadata": {},
   "outputs": [],
   "source": [
    "parametros = {\"name\": \"Juanjo\", \n",
    "          \"personality\": \"humor oscurusburus\", \n",
    "          \"job\": \"fuckingmaster\"\n",
    "    \n",
    "}"
   ]
  },
  {
   "cell_type": "code",
   "execution_count": 56,
   "metadata": {},
   "outputs": [
    {
     "data": {
      "text/plain": [
       "{'_id': {'$oid': '603435ad0da556204e0e46d9'}}"
      ]
     },
     "execution_count": 56,
     "metadata": {},
     "output_type": "execute_result"
    }
   ],
   "source": [
    "res = requests.get(\"http://127.0.0.1:5000/characters/new\", params = parametros)\n",
    "res.json()"
   ]
  },
  {
   "cell_type": "code",
   "execution_count": null,
   "metadata": {},
   "outputs": [],
   "source": [
    "res = requests.get(\"http://127.0.0.1:5000/episodes/new\", params = parametros)\n",
    "res.json()"
   ]
  },
  {
   "cell_type": "code",
   "execution_count": 59,
   "metadata": {},
   "outputs": [],
   "source": [
    "parametros = {\"line\": \"comomoco\", \n",
    "          \"name\": \"jeancha\", \"episode\": 2\n",
    "         \n",
    "    \n",
    "}"
   ]
  },
  {
   "cell_type": "code",
   "execution_count": 60,
   "metadata": {},
   "outputs": [
    {
     "data": {
      "text/plain": [
       "{'_id': {'$oid': '6034374614ab493ac56abbfc'}}"
      ]
     },
     "execution_count": 60,
     "metadata": {},
     "output_type": "execute_result"
    }
   ],
   "source": [
    "res = requests.get(\"http://127.0.0.1:5000/lines/new\", params = parametros)\n",
    "res.json()"
   ]
  },
  {
   "cell_type": "code",
   "execution_count": 61,
   "metadata": {},
   "outputs": [
    {
     "data": {
      "text/plain": [
       "{'response': 200, 'message': 'quote successfully deleted'}"
      ]
     },
     "execution_count": 61,
     "metadata": {},
     "output_type": "execute_result"
    }
   ],
   "source": [
    "res = requests.get(\"http://127.0.0.1:5000/lines/delete?id=6034374614ab493ac56abbfc\")\n",
    "res.json()"
   ]
  },
  {
   "cell_type": "markdown",
   "metadata": {},
   "source": [
    "### We update character"
   ]
  },
  {
   "cell_type": "code",
   "execution_count": 67,
   "metadata": {},
   "outputs": [],
   "source": [
    "parametros = {\n",
    "    \"name\": \"Juanjo\", \n",
    "          \"personality\": \"indescifrable\", \"job\": \"mecanico de monstertruck\"\n",
    "         \n",
    "    \n",
    "}"
   ]
  },
  {
   "cell_type": "code",
   "execution_count": 68,
   "metadata": {},
   "outputs": [
    {
     "data": {
      "text/plain": [
       "{'response': 200, 'message': 'character successfully updated'}"
      ]
     },
     "execution_count": 68,
     "metadata": {},
     "output_type": "execute_result"
    }
   ],
   "source": [
    "res = requests.get(\"http://127.0.0.1:5000/characters/edit?id=603435ad0da556204e0e46d9\", params = parametros)\n",
    "res.json()"
   ]
  },
  {
   "cell_type": "code",
   "execution_count": null,
   "metadata": {},
   "outputs": [],
   "source": []
  }
 ],
 "metadata": {
  "kernelspec": {
   "display_name": "Python 3",
   "language": "python",
   "name": "python3"
  },
  "language_info": {
   "codemirror_mode": {
    "name": "ipython",
    "version": 3
   },
   "file_extension": ".py",
   "mimetype": "text/x-python",
   "name": "python",
   "nbconvert_exporter": "python",
   "pygments_lexer": "ipython3",
   "version": "3.9.1"
  }
 },
 "nbformat": 4,
 "nbformat_minor": 4
}
